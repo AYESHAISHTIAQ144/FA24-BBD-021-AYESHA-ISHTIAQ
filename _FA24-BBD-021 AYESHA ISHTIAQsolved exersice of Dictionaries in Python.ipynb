{
 "cells": [
  {
   "cell_type": "markdown",
   "id": "5d05fcb1",
   "metadata": {},
   "source": [
    "# Lecture on Dictionaries in Python"
   ]
  },
  {
   "cell_type": "markdown",
   "id": "d08d8ca2",
   "metadata": {},
   "source": [
    "## 1. Objectives of the Lecture"
   ]
  },
  {
   "cell_type": "markdown",
   "id": "e4c0b0fb",
   "metadata": {},
   "source": [
    "### Understand the concept and purpose of dictionaries in Python.\n",
    "### Learn how to create, access, modify, and delete dictionary elements.\n",
    "### Explore common dictionary methods and their applications.\n",
    "### Practice solving real-world business problems using dictionaries."
   ]
  },
  {
   "cell_type": "markdown",
   "id": "032035df",
   "metadata": {},
   "source": [
    "## 2. What is a Dictionary?\n",
    "\n",
    "### A dictionary is an unordered collection of items, where each item is a key-value pair. The key is used to access the corresponding value.\n",
    "\n",
    "## 3. Creating a Dictionary\n",
    "\n",
    "### To create a dictionary, we use curly braces {} and separate key-value pairs with commas."
   ]
  },
  {
   "cell_type": "markdown",
   "id": "7561b830",
   "metadata": {},
   "source": [
    "### dictionary = { \"key1\": \"value1\", \"key2\": \"value2\",....}"
   ]
  },
  {
   "cell_type": "markdown",
   "id": "a9835dd5",
   "metadata": {},
   "source": [
    "## 4. Key Features of Dictionaries\n",
    "### Unordered: Items are not stored in a specific order (Python 3.7+ maintains insertion order).\n",
    "### Mutable: Dictionaries can be modified.\n",
    "### Indexed by Keys: You access values through their keys."
   ]
  },
  {
   "cell_type": "markdown",
   "id": "6a54f75d",
   "metadata": {},
   "source": [
    "my_dict = {'name': 'Alice', 'age': 30, 'city': 'New York'}"
   ]
  },
  {
   "cell_type": "markdown",
   "id": "b3d2a782",
   "metadata": {},
   "source": [
    "## 5. Accessing Values\n",
    "### We can access values using their corresponding keys:"
   ]
  },
  {
   "cell_type": "code",
   "execution_count": null,
   "id": "43f13356",
   "metadata": {},
   "outputs": [],
   "source": [
    "print(my_dict['name'])  # Output: Alice"
   ]
  },
  {
   "cell_type": "markdown",
   "id": "82600b82",
   "metadata": {},
   "source": [
    "## 6. Adding and Modifying Values\n",
    "\n",
    "### We can add new key-value pairs or modify existing ones:"
   ]
  },
  {
   "cell_type": "code",
   "execution_count": null,
   "id": "258c7acb",
   "metadata": {},
   "outputs": [],
   "source": [
    "my_dict['occupation'] = 'Data Analyst'  # Add a new key-value pair\n",
    "my_dict['age'] = 31  # Modify an existing value"
   ]
  },
  {
   "cell_type": "markdown",
   "id": "34be3f85",
   "metadata": {},
   "source": [
    "## 7. Removing Values\n",
    "### We can remove key-value pairs using the del keyword:"
   ]
  },
  {
   "cell_type": "code",
   "execution_count": null,
   "id": "8ea6dbd5",
   "metadata": {},
   "outputs": [],
   "source": [
    "del my_dict['city']"
   ]
  },
  {
   "cell_type": "markdown",
   "id": "870c86da",
   "metadata": {},
   "source": [
    "## 8. Iterating Over a Dictionary\n",
    "### We can iterate over a dictionary using a for loop:"
   ]
  },
  {
   "cell_type": "code",
   "execution_count": null,
   "id": "f53db0e2",
   "metadata": {},
   "outputs": [],
   "source": [
    "for key, value in my_dict.items():\n",
    "    print(key, value)"
   ]
  },
  {
   "cell_type": "markdown",
   "id": "d8dc17f1",
   "metadata": {},
   "source": [
    "## 9. Dictionary Methods\n",
    "\n",
    "### Python provides several built-in methods to work with dictionaries:\n",
    "#### keys(): Returns a view object containing the dictionary's keys.\n",
    "#### values(): Returns a view object containing the dictionary's values.\n",
    "#### items(): Returns a view object containing the dictionary's key-value pairs 1  as tuples.\n",
    "#### get(key, default): Returns the value for the specified key. If the key is not found, returns the default value.\n",
    "#### pop(key, default): Removes and returns the value for the specified key. If the key is not found, returns the default value.\n",
    "#### Practical Example: Analyzing Sales Data\n",
    "### Let's consider a scenario where we have sales data for different products:"
   ]
  },
  {
   "cell_type": "code",
   "execution_count": 3,
   "id": "d27f7f55",
   "metadata": {},
   "outputs": [],
   "source": [
    "sales_data = {\n",
    "    'Product A': 1000,\n",
    "    'Product B': 1500,\n",
    "    'Product C': 800\n",
    "}"
   ]
  },
  {
   "cell_type": "markdown",
   "id": "2a73c3ba",
   "metadata": {},
   "source": [
    "## 10. We can perform various analyses on this data:\n",
    "\n",
    "### Calculate total sales:"
   ]
  },
  {
   "cell_type": "code",
   "execution_count": 4,
   "id": "f87e72f6",
   "metadata": {},
   "outputs": [
    {
     "name": "stdout",
     "output_type": "stream",
     "text": [
      "Total sales: 3300\n"
     ]
    }
   ],
   "source": [
    "total_sales = sum(sales_data.values())\n",
    "print(\"Total sales:\", total_sales)"
   ]
  },
  {
   "cell_type": "markdown",
   "id": "aef58e07",
   "metadata": {},
   "source": [
    "### Find the product with the highest sales:"
   ]
  },
  {
   "cell_type": "code",
   "execution_count": 5,
   "id": "67fe62fb",
   "metadata": {},
   "outputs": [
    {
     "name": "stdout",
     "output_type": "stream",
     "text": [
      "Product with highest sales: Product B\n"
     ]
    }
   ],
   "source": [
    "max_sales = max(sales_data.values())\n",
    "for product, sales in sales_data.items():\n",
    "    if sales == max_sales:\n",
    "        print(\"Product with highest sales:\", product)\n",
    "        break"
   ]
  },
  {
   "cell_type": "markdown",
   "id": "bf27d06e",
   "metadata": {},
   "source": [
    "### Create a new dictionary to store sales percentages:"
   ]
  },
  {
   "cell_type": "code",
   "execution_count": 6,
   "id": "d2348c7a",
   "metadata": {},
   "outputs": [
    {
     "name": "stdout",
     "output_type": "stream",
     "text": [
      "{'Product A': 30.303030303030305, 'Product B': 45.45454545454545, 'Product C': 24.242424242424242}\n"
     ]
    }
   ],
   "source": [
    "total_sales = sum(sales_data.values())\n",
    "sales_percentages = {}\n",
    "for product, sales in sales_data.items():\n",
    "    percentage = (sales / total_sales) * 100\n",
    "    sales_percentages[product] = percentage\n",
    "print(sales_percentages)"
   ]
  },
  {
   "cell_type": "markdown",
   "id": "aa02a88d",
   "metadata": {},
   "source": [
    "## 12. Conclusion\n",
    "### Dictionaries are a fundamental tool for data analysts. By understanding their structure, methods, and applications, you can effectively organize, access, and manipulate data to gain valuable insights."
   ]
  },
  {
   "cell_type": "markdown",
   "id": "436bcef2",
   "metadata": {},
   "source": [
    "## 13. Practice Exercises:\n",
    "### a) Create a dictionary to store information about a person (name, age, city, hobbies).\n",
    "### b) Write a program to count the frequency of words in a given text.\n",
    "### c) Implement a simple inventory system using dictionaries.\n",
    "### d) Analyze a dataset of customer orders to find the most popular product category.\n",
    "### e) Create a dictionary to store student grades and calculate the average grade."
   ]
  },
  {
   "cell_type": "markdown",
   "id": "0ad42adf",
   "metadata": {},
   "source": [
    "### f) Inventory Management:\n",
    "#### Create a dictionary to store product information: name, quantity, price.\n",
    "#### Implement functions to:\n",
    "#### Add new products\n",
    "#### Update product quantities\n",
    "#### Calculate total inventory value\n",
    "#### Generate a report of low-stock items\n",
    "\n",
    "### g) Student Gradebook:\n",
    "#### Create a dictionary to store student information: name, grades for different subjects.\n",
    "#### Calculate the average grade for each student.\n",
    "#### Find the highest and lowest grades in a specific subject.\n",
    "#### Sort students by their average grades.\n",
    "\n",
    "### h) Simple E-commerce Store:\n",
    "#### Create a dictionary to store product information: name, price, quantity.\n",
    "#### Implement a shopping cart feature where users can add and remove products.\n",
    "#### Calculate the total cost of items in the cart.\n",
    "#### Apply discounts and taxes to the total cost."
   ]
  },
  {
   "cell_type": "code",
   "execution_count": 2,
   "id": "9fdd33a8",
   "metadata": {},
   "outputs": [
    {
     "name": "stdout",
     "output_type": "stream",
     "text": [
      "{'name': 'Ayesha', 'age': 19, 'city': 'lodhran', 'hobbies': ['reading', 'drawing', 'painting']}\n"
     ]
    }
   ],
   "source": [
    "#(a) Dictionary to Store Person Information\n",
    "person = {\n",
    "    \"name\": \"Ayesha\",\n",
    "    \"age\": 19,\n",
    "    \"city\": \"lodhran\",\n",
    "    \"hobbies\": [\"reading\", \"drawing\", \"painting\"]\n",
    "}\n",
    "print(person)"
   ]
  },
  {
   "cell_type": "code",
   "execution_count": 22,
   "id": "3cf1d726-a40f-426b-be22-2864c4af733b",
   "metadata": {},
   "outputs": [
    {
     "name": "stdout",
     "output_type": "stream",
     "text": [
      "{'hello': 2, 'Ayesha': 1, 'world': 1}\n"
     ]
    }
   ],
   "source": [
    "# (b) Program to Count Word Frequency\n",
    "def word_frequency(text):\n",
    "    frequency = {}\n",
    "    words = text.split()\n",
    "    for word in words:\n",
    "        if word in frequency:\n",
    "            frequency[word] += 1\n",
    "        else:\n",
    "            frequency[word] = 1\n",
    "    return frequency\n",
    "\n",
    "text = \"hello Ayesha hello world\"\n",
    "print(word_frequency(text))"
   ]
  },
  {
   "cell_type": "code",
   "execution_count": 24,
   "id": "d4bfc33f-eecc-4f05-ab64-ff9a777ae9bd",
   "metadata": {},
   "outputs": [
    {
     "name": "stdout",
     "output_type": "stream",
     "text": [
      "Inventory:\n",
      "audi: 13\n",
      "iphone15 pro max: 34\n"
     ]
    }
   ],
   "source": [
    "# (c) Simple Inventory System\n",
    "inventory = {}\n",
    "\n",
    "def add_item(name, quantity):\n",
    "    if name in inventory:\n",
    "        inventory[name] += quantity\n",
    "    else:\n",
    "        inventory[name] = quantity\n",
    "\n",
    "def remove_item(name, quantity):\n",
    "    if name in inventory:\n",
    "        inventory[name] -= quantity\n",
    "        if inventory[name] <= 0:\n",
    "            del inventory[name]\n",
    "\n",
    "def show_inventory():\n",
    "    print(\"Inventory:\")\n",
    "    for item, qty in inventory.items():\n",
    "        print(f\"{item}: {qty}\")\n",
    "\n",
    "# Example\n",
    "add_item(\"audi\", 24)\n",
    "add_item(\"iphone15 pro max\",34)\n",
    "remove_item(\"audi\",11 )\n",
    "show_inventory()"
   ]
  },
  {
   "cell_type": "code",
   "execution_count": 28,
   "id": "49a3628f-f693-47db-a1a2-6084f8f3fb8e",
   "metadata": {},
   "outputs": [
    {
     "name": "stdout",
     "output_type": "stream",
     "text": [
      "Most Popular Category: makup\n"
     ]
    }
   ],
   "source": [
    "# (d) Find Most Popular Product Category\n",
    "orders = [\n",
    "    {\"product\": \"blush,lipstick\", \"category\": \"makup\"},\n",
    "    {\"product\": \"Phone\", \"category\": \"Electronics\"},\n",
    "    {\"product\": \"Shirt\", \"category\": \"Clothing\"},\n",
    "    {\"product\": \"nailpaint\", \"category\": \"beauty\"}\n",
    "]\n",
    "\n",
    "def most_popular_category(orders):\n",
    "    categories = {}\n",
    "    for order in orders:\n",
    "        category = order[\"category\"]\n",
    "        if category in categories:\n",
    "            categories[category] += 3\n",
    "        else:\n",
    "            categories[category] = 3\n",
    "    return max(categories, key=categories.get)\n",
    "\n",
    "print(\"Most Popular Category:\", most_popular_category(orders))"
   ]
  },
  {
   "cell_type": "code",
   "execution_count": 30,
   "id": "0915152f-4281-410f-8e78-ae9f62c2521e",
   "metadata": {},
   "outputs": [
    {
     "name": "stdout",
     "output_type": "stream",
     "text": [
      "ayesha: Average Grade = 99.33\n",
      "mani: Average Grade = 75.00\n",
      "Sehar: Average Grade = 90.00\n"
     ]
    }
   ],
   "source": [
    "# (e) Student Grades and Average Calculation\n",
    "grades = {\n",
    "    \"ayesha\": [123, 90, 85],\n",
    "    \"mani\": [75, 80, 70],\n",
    "    \"Sehar\": [88, 92, 90]\n",
    "}\n",
    "\n",
    "def calculate_averages(grades):\n",
    "    for student, marks in grades.items():\n",
    "        average = sum(marks) / len(marks)\n",
    "        print(f\"{student}: Average Grade = {average:.2f}\")\n",
    "\n",
    "calculate_averages(grades)"
   ]
  },
  {
   "cell_type": "code",
   "execution_count": 32,
   "id": "f896cbb5-e60c-4669-9793-ed04f0692b51",
   "metadata": {},
   "outputs": [
    {
     "name": "stdout",
     "output_type": "stream",
     "text": [
      "Most Popular Category: makup\n"
     ]
    }
   ],
   "source": [
    "# (d) Find Most Popular Product Category\n",
    "orders = [\n",
    "    {\"product\": \"blush,lipstick\", \"category\": \"makup\"},\n",
    "    {\"product\": \"Phone\", \"category\": \"Electronics\"},\n",
    "    {\"product\": \"Shirt\", \"category\": \"Clothing\"},\n",
    "    {\"product\": \"nailpaint\", \"category\": \"beauty\"}\n",
    "]\n",
    "\n",
    "def most_popular_category(orders):\n",
    "    categories = {}\n",
    "    for order in orders:\n",
    "        category = order[\"category\"]\n",
    "        if category in categories:\n",
    "            categories[category] += 1\n",
    "        else:\n",
    "            categories[category] = 1\n",
    "    return max(categories, key=categories.get)\n",
    "\n",
    "print(\"Most Popular Category:\", most_popular_category(orders))"
   ]
  },
  {
   "cell_type": "code",
   "execution_count": 34,
   "id": "eae70dba-b43c-4e64-9079-b0a9fd32c6d5",
   "metadata": {},
   "outputs": [
    {
     "name": "stdout",
     "output_type": "stream",
     "text": [
      "ayesha: Average Grade = 99.33\n",
      "mani: Average Grade = 75.00\n",
      "Sehar: Average Grade = 90.00\n"
     ]
    }
   ],
   "source": [
    "# (e) Student Grades and Average Calculation\n",
    "grades = {\n",
    "    \"ayesha\": [123, 90, 85],\n",
    "    \"mani\": [75, 80, 70],\n",
    "    \"Sehar\": [88, 92, 90]\n",
    "}\n",
    "\n",
    "def calculate_averages(grades):\n",
    "    for student, marks in grades.items():\n",
    "        average = sum(marks) / len(marks)\n",
    "        print(f\"{student}: Average Grade = {average:.2f}\")\n",
    "\n",
    "calculate_averages(grades)"
   ]
  },
  {
   "cell_type": "code",
   "execution_count": 38,
   "id": "2ecd75c0-ffbc-4db7-b687-1123e0aae2cc",
   "metadata": {},
   "outputs": [
    {
     "name": "stdout",
     "output_type": "stream",
     "text": [
      "Total Inventory Value: 110\n",
      "Low Stock Items: ['canvas']\n"
     ]
    }
   ],
   "source": [
    "# (f) Inventory Management\n",
    "inventory = {}\n",
    "\n",
    "def add_product(name, quantity, price):\n",
    "    inventory[name] = {\"quantity\": quantity, \"price\": price}\n",
    "\n",
    "def update_quantity(name, quantity):\n",
    "    if name in inventory:\n",
    "        inventory[name][\"quantity\"] += quantity\n",
    "\n",
    "def total_value():\n",
    "    total = 0\n",
    "    for product in inventory.values():\n",
    "        total += product[\"quantity\"] * product[\"price\"]\n",
    "    return total\n",
    "\n",
    "def low_stock(threshold=5):\n",
    "    return [name for name, details in inventory.items() if details[\"quantity\"] < threshold]\n",
    "\n",
    "# Example\n",
    "add_product(\"Paints\", 10, 5)\n",
    "add_product(\"canvas\", 3, 20)\n",
    "update_quantity(\"paints\", 2)\n",
    "print(\"Total Inventory Value:\", total_value())\n",
    "print(\"Low Stock Items:\", low_stock())"
   ]
  },
  {
   "cell_type": "code",
   "execution_count": 18,
   "id": "3e2bd34e-8ffa-46a7-bef1-af8bf10601aa",
   "metadata": {},
   "outputs": [
    {
     "name": "stdout",
     "output_type": "stream",
     "text": [
      "Manisha: Average Grade = 87.67\n",
      "Ali: Average Grade = 75.00\n",
      "Sara: Average Grade = 90.67\n",
      "Highest in Math: ('Sara', 92)\n",
      "Lowest in Math: ('Ali', 75)\n"
     ]
    }
   ],
   "source": [
    "# (g) Student Gradebook\n",
    "gradebook = {\n",
    "    \"Manisha\": {\"Math\": 85, \"Science\": 90, \"English\": 88},\n",
    "    \"Ali\": {\"Math\": 75, \"Science\": 70, \"English\": 80},\n",
    "    \"Sara\": {\"Math\": 92, \"Science\": 95, \"English\": 85}\n",
    "}\n",
    "\n",
    "def calculate_average_grades(gradebook):\n",
    "    for student, subjects in gradebook.items():\n",
    "        average = sum(subjects.values()) / len(subjects)\n",
    "        print(f\"{student}: Average Grade = {average:.2f}\")\n",
    "\n",
    "def highest_lowest(subject):\n",
    "    scores = [(student, details[subject]) for student, details in gradebook.items() if subject in details]\n",
    "    scores.sort(key=lambda x: x[1], reverse=True)\n",
    "    print(f\"Highest in {subject}: {scores[0]}\")\n",
    "    print(f\"Lowest in {subject}: {scores[-1]}\")\n",
    "\n",
    "calculate_average_grades(gradebook)\n",
    "highest_lowest(\"Math\")"
   ]
  },
  {
   "cell_type": "code",
   "execution_count": 20,
   "id": "e26662d6-ca39-492b-ae97-bc6c448914ed",
   "metadata": {},
   "outputs": [
    {
     "name": "stdout",
     "output_type": "stream",
     "text": [
      "Cart: {'Pen': 5, 'Notebook': 2}\n",
      "Cart after removal: {'Pen': 3, 'Notebook': 2}\n",
      "Total Cost (with discount and tax): 54.45\n"
     ]
    }
   ],
   "source": [
    "# (h) Simple E-commerce Store\n",
    "# Dictionary to store product information: name, price, quantity\n",
    "products = {\n",
    "    \"Pen\": {\"price\": 5, \"quantity\": 50},\n",
    "    \"Notebook\": {\"price\": 20, \"quantity\": 30},\n",
    "    \"Bag\": {\"price\": 500, \"quantity\": 10},\n",
    "}\n",
    "\n",
    "# Shopping cart to track user selections\n",
    "cart = {}\n",
    "\n",
    "# Function to add products to the cart\n",
    "def add_to_cart(product, quantity):\n",
    "    if product in products and products[product][\"quantity\"] >= quantity:\n",
    "        cart[product] = cart.get(product, 0) + quantity\n",
    "        products[product][\"quantity\"] -= quantity\n",
    "    else:\n",
    "        print(f\"Insufficient stock for {product}.\")\n",
    "\n",
    "# Function to remove products from the cart\n",
    "def remove_from_cart(product, quantity):\n",
    "    if product in cart and cart[product] >= quantity:\n",
    "        cart[product] -= quantity\n",
    "        if cart[product] == 0:\n",
    "            del cart[product]\n",
    "        products[product][\"quantity\"] += quantity\n",
    "    else:\n",
    "        print(f\"Cannot remove {quantity} of {product} from cart.\")\n",
    "\n",
    "# Function to calculate the total cost of the cart\n",
    "def calculate_total(discount=0, tax=0.1):\n",
    "    total = sum(products[product][\"price\"] * qty for product, qty in cart.items())\n",
    "    total -= total * discount  # Apply discount\n",
    "    total += total * tax       # Apply tax\n",
    "    return total\n",
    "\n",
    "# Example usage\n",
    "add_to_cart(\"Pen\", 5)\n",
    "add_to_cart(\"Notebook\", 2)\n",
    "print(\"Cart:\", cart)\n",
    "\n",
    "remove_from_cart(\"Pen\", 2)\n",
    "print(\"Cart after removal:\", cart)\n",
    "\n",
    "# Calculate total cost with a 10% discount and 10% tax\n",
    "total_cost = calculate_total(discount=0.1, tax=0.1)\n",
    "print(\"Total Cost (with discount and tax):\", total_cost)"
   ]
  },
  {
   "cell_type": "code",
   "execution_count": null,
   "id": "32c97e91-68f4-41ff-8af6-0c87bc17814a",
   "metadata": {},
   "outputs": [],
   "source": []
  }
 ],
 "metadata": {
  "kernelspec": {
   "display_name": "Python 3 (ipykernel)",
   "language": "python",
   "name": "python3"
  },
  "language_info": {
   "codemirror_mode": {
    "name": "ipython",
    "version": 3
   },
   "file_extension": ".py",
   "mimetype": "text/x-python",
   "name": "python",
   "nbconvert_exporter": "python",
   "pygments_lexer": "ipython3",
   "version": "3.12.4"
  }
 },
 "nbformat": 4,
 "nbformat_minor": 5
}
